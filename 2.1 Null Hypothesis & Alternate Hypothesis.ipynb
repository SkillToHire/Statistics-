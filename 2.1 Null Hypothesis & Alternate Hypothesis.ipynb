{
 "cells": [
  {
   "cell_type": "markdown",
   "metadata": {},
   "source": [
    "## Hypothesis Testing:"
   ]
  },
  {
   "cell_type": "markdown",
   "metadata": {},
   "source": [
    "<pre>\n",
    "Hypothesis testing can be defined as making statistical decisions or draw conclusions from an experimental data, an assumption is made from random samples which is known as population parameter, \n",
    "\n",
    "The assumption is alternate (may true) or null hypothesis (may not be true):\n",
    "</pre>"
   ]
  },
  {
   "cell_type": "markdown",
   "metadata": {},
   "source": [
    "#### Example:"
   ]
  },
  {
   "cell_type": "markdown",
   "metadata": {},
   "source": [
    "<pre>\n",
    "Ex 1: Average weights of the students in the class is 35kgs \n",
    "Ex 2: 80% percentage of the people in the specific area are affected with lung diseases\n",
    "How can we prove our assumption is true or may not be true?\n",
    "    Using some Hypothesis testing methods\n",
    "Ex 3:\n",
    "In hypothesis testing, we quantify our uncertainty by asking whether it is likely that data came from a distribution. \n",
    "We will focus on the following common type of hypothesis testing scenario:\n",
    "    I The data Y come from some distribution f (Y |θ), with parameter θ.\n",
    "    I There are two possibilities for θ: either θ = H0, or θ! = H0. \n",
    "    I We call the case that θ = H0 the null hypothesis.\n",
    "    I We call the case that θ! = H0 the alternative hypothesis\n",
    "</ore>"
   ]
  },
  {
   "cell_type": "markdown",
   "metadata": {},
   "source": [
    "#### Parameters in Hypothesis Testing:"
   ]
  },
  {
   "cell_type": "markdown",
   "metadata": {},
   "source": [
    "* Null Hypothesis\n",
    "* Alternate Hypothesis\n"
   ]
  },
  {
   "cell_type": "markdown",
   "metadata": {},
   "source": [
    "### Null Hypothesis:"
   ]
  },
  {
   "cell_type": "markdown",
   "metadata": {},
   "source": [
    "<pre>\n",
    "It is a fundamental concept of inferential statistics, we typically denote the null hypothesis with H0\n",
    "The aim of null hypothesis is to show that there is no relationship between two groups or no association between groups.\n",
    "H0: The mean difference between two groups is 0.\n",
    "</pre>"
   ]
  },
  {
   "cell_type": "markdown",
   "metadata": {},
   "source": [
    "### Alternate Hypothesis:"
   ]
  },
  {
   "cell_type": "markdown",
   "metadata": {},
   "source": [
    "<pre>\n",
    "The aim of alternate hypothesis is to show there is statistical relationship between two groups.\n",
    "H1: the mean difference between the two groups is not 0.\n",
    "The process of the difference between the null hypothesis and alternate hypothesis is aided by considering two types of errors:\n",
    "    Type I errors\n",
    "    Type II errors\n",
    "</pre>"
   ]
  },
  {
   "cell_type": "code",
   "execution_count": null,
   "metadata": {},
   "outputs": [],
   "source": []
  }
 ],
 "metadata": {
  "kernelspec": {
   "display_name": "Python 3",
   "language": "python",
   "name": "python3"
  },
  "language_info": {
   "codemirror_mode": {
    "name": "ipython",
    "version": 3
   },
   "file_extension": ".py",
   "mimetype": "text/x-python",
   "name": "python",
   "nbconvert_exporter": "python",
   "pygments_lexer": "ipython3",
   "version": "3.7.3"
  }
 },
 "nbformat": 4,
 "nbformat_minor": 2
}

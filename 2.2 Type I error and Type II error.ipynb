{
 "cells": [
  {
   "cell_type": "markdown",
   "metadata": {},
   "source": [
    "<pre>\n",
    "The process of the difference between the null hypothesis and alternate hypothesis is aided by considering two types of errors:\n",
    "    Type I errors\n",
    "    Type II errors\n",
    "</pre>"
   ]
  },
  {
   "cell_type": "markdown",
   "metadata": {},
   "source": [
    "#### Decision Rules:"
   ]
  },
  {
   "cell_type": "markdown",
   "metadata": {},
   "source": [
    "<pre>\n",
    "In general, a hypothesis test is implemented using a decision rule given the test statistic. We focus on decision rules like the following:\n",
    "     “If |T(Y)| ≥ s, then reject the null; otherwise accept the null.” \n",
    "In other words, the test statistics we consider will have the property that they are unlikely to have large magnitude           under the null (e.g., qˆ in the preceding example).\n",
    "</pre>"
   ]
  },
  {
   "cell_type": "markdown",
   "metadata": {},
   "source": [
    "### Type I Error:"
   ]
  },
  {
   "cell_type": "markdown",
   "metadata": {},
   "source": [
    "The first type of error is rejection of null hypothesis although that hypothesis is true (also know as false positive or conclusion) "
   ]
  },
  {
   "cell_type": "markdown",
   "metadata": {},
   "source": [
    "### Type II Error:"
   ]
  },
  {
   "cell_type": "markdown",
   "metadata": {},
   "source": [
    "The second type of error is the acceptance of false null hypothesis (also known as false negative or conclusion)"
   ]
  },
  {
   "cell_type": "markdown",
   "metadata": {},
   "source": [
    "#### Errors:"
   ]
  },
  {
   "cell_type": "markdown",
   "metadata": {},
   "source": [
    "<pre>\n",
    "False positive: positive result correspondence to reject null hypothesis\n",
    "False negative: negative result correspondence to accept null hypothesis\n",
    "    Negative result corresponds to failing to reject the null hypothesis, false means conclusion drawn is incorrect.\n",
    "</pre>"
   ]
  },
  {
   "cell_type": "code",
   "execution_count": null,
   "metadata": {},
   "outputs": [],
   "source": []
  }
 ],
 "metadata": {
  "kernelspec": {
   "display_name": "Python 3",
   "language": "python",
   "name": "python3"
  },
  "language_info": {
   "codemirror_mode": {
    "name": "ipython",
    "version": 3
   },
   "file_extension": ".py",
   "mimetype": "text/x-python",
   "name": "python",
   "nbconvert_exporter": "python",
   "pygments_lexer": "ipython3",
   "version": "3.7.3"
  }
 },
 "nbformat": 4,
 "nbformat_minor": 2
}
